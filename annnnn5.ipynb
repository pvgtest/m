{
 "cells": [
  {
   "cell_type": "code",
   "execution_count": 2,
   "id": "5df61bfa-2743-482e-b2f9-aa363f1594f7",
   "metadata": {},
   "outputs": [
    {
     "name": "stdout",
     "output_type": "stream",
     "text": [
      "[ 1 -1 -1 -1]\n",
      "[ 1 -1]\n"
     ]
    }
   ],
   "source": [
    "import numpy as np\n",
    "X=np.array([[1,1,1,-1],[-1,-1,1,1]])\n",
    "Y=np.array([[1,-1],[-1,1]])\n",
    "W=np.dot(Y.T,X)\n",
    "\n",
    "def bam(x):\n",
    "    return np.sign(np.dot(W,x))\n",
    "\n",
    "x_test=np.array([1,-1,-1,-1])\n",
    "y_test=bam(x_test)\n",
    "\n",
    "print(x_test)\n",
    "print(y_test)"
   ]
  },
  {
   "cell_type": "code",
   "execution_count": 3,
   "id": "b9ba2233-f96f-4f2b-ad0d-6aeff2e082a3",
   "metadata": {},
   "outputs": [
    {
     "name": "stdout",
     "output_type": "stream",
     "text": [
      "Input Pattern: [ 1 -1]\n",
      "Retrieved Output Pattern: [1, 1]\n",
      "\n",
      "Input Pattern: [-1  1]\n",
      "Retrieved Output Pattern: [-1, -1]\n"
     ]
    }
   ],
   "source": [
    "import numpy as np\n",
    "\n",
    "# Example with two pairs of vectors\n",
    "input_patterns = np.array([[1, -1], [1, 1]])\n",
    "output_patterns = np.array([[1, 1], [-1, 1]])\n",
    "\n",
    "# Compute the weight matrix\n",
    "weights = np.dot(output_patterns.T, input_patterns)\n",
    "\n",
    "# Perform bidirectional recall\n",
    "def recall(input_pattern):\n",
    "    output_pattern = np.sign(np.dot(weights, input_pattern))\n",
    "    return output_pattern.tolist()\n",
    "\n",
    "# Test bidirectional recall\n",
    "test_input = np.array([1, -1])\n",
    "retrieved_output = recall(test_input)\n",
    "print(\"Input Pattern:\", test_input)\n",
    "print(\"Retrieved Output Pattern:\", retrieved_output)\n",
    "\n",
    "test_output = np.array([-1, 1])\n",
    "retrieved_input = recall(test_output)\n",
    "print(\"\\nInput Pattern:\", test_output)\n",
    "print(\"Retrieved Output Pattern:\", retrieved_input)"
   ]
  },
  {
   "cell_type": "code",
   "execution_count": null,
   "id": "e755a74b-6542-435a-b9db-0c4747915d38",
   "metadata": {},
   "outputs": [],
   "source": []
  }
 ],
 "metadata": {
  "kernelspec": {
   "display_name": "Python 3 (ipykernel)",
   "language": "python",
   "name": "python3"
  },
  "language_info": {
   "codemirror_mode": {
    "name": "ipython",
    "version": 3
   },
   "file_extension": ".py",
   "mimetype": "text/x-python",
   "name": "python",
   "nbconvert_exporter": "python",
   "pygments_lexer": "ipython3",
   "version": "3.11.5"
  }
 },
 "nbformat": 4,
 "nbformat_minor": 5
}
