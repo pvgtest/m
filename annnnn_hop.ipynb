{
 "cells": [
  {
   "cell_type": "code",
   "execution_count": 9,
   "id": "1d137d0d-cb4b-447e-aaea-cd1d3bad2def",
   "metadata": {},
   "outputs": [
    {
     "name": "stdout",
     "output_type": "stream",
     "text": [
      "[[1]\n",
      " [1]\n",
      " [1]\n",
      " [1]]\n",
      "[[1 1 1 1]\n",
      " [1 1 1 1]\n",
      " [1 1 1 1]\n",
      " [1 1 1 1]]\n",
      "[[ 1]\n",
      " [-1]\n",
      " [-1]\n",
      " [ 1]]\n",
      "[[ 1 -1 -1  1]\n",
      " [-1  1  1 -1]\n",
      " [-1  1  1 -1]\n",
      " [ 1 -1 -1  1]]\n",
      "[[-1]\n",
      " [ 1]\n",
      " [-1]\n",
      " [-1]]\n",
      "[[ 1 -1  1  1]\n",
      " [-1  1 -1 -1]\n",
      " [ 1 -1  1  1]\n",
      " [ 1 -1  1  1]]\n",
      "[[ 1]\n",
      " [-1]\n",
      " [-1]\n",
      " [-1]]\n",
      "[[ 1 -1 -1 -1]\n",
      " [-1  1  1  1]\n",
      " [-1  1  1  1]\n",
      " [-1  1  1  1]]\n"
     ]
    }
   ],
   "source": [
    "import numpy as np\n",
    "import matplotlib.pyplot as plt\n",
    "x1=[[1,1,1,1]]\n",
    "x2=[[1,-1,-1,1]]\n",
    "x3=[[-1,1,-1,-1]]\n",
    "x4=[[1,-1,-1,-1]]\n",
    "\n",
    "x11 = np.transpose(x1 , axes=None)\n",
    "print(x11)\n",
    "w1=x1*x11\n",
    "print(w1)\n",
    "\n",
    "x21 = np.transpose(x2 , axes=None)\n",
    "print(x21)\n",
    "w2=x2*x21\n",
    "print(w2)\n",
    "\n",
    "x31 = np.transpose(x3 , axes=None)\n",
    "print(x31)\n",
    "w3=x3*x31\n",
    "print(w3)\n",
    "\n",
    "x41 = np.transpose(x4 , axes=None)\n",
    "print(x41)\n",
    "w4=x4*x41\n",
    "print(w4)\n"
   ]
  },
  {
   "cell_type": "code",
   "execution_count": 10,
   "id": "1f465b9a-977d-425b-8f6c-984cf344f650",
   "metadata": {},
   "outputs": [
    {
     "name": "stdout",
     "output_type": "stream",
     "text": [
      "[[ 4 -2  0  2]\n",
      " [-2  4  2  0]\n",
      " [ 0  2  4  2]\n",
      " [ 2  0  2  4]]\n"
     ]
    }
   ],
   "source": [
    "W = w1+w2+w3+w4\n",
    "print(W)\n"
   ]
  },
  {
   "cell_type": "code",
   "execution_count": 11,
   "id": "bac88c84-43f7-411c-9a9d-a0592a6086f0",
   "metadata": {},
   "outputs": [
    {
     "data": {
      "text/plain": [
       "array([[4, 4, 8, 8]])"
      ]
     },
     "execution_count": 11,
     "metadata": {},
     "output_type": "execute_result"
    }
   ],
   "source": [
    "np.dot(x1,W)"
   ]
  },
  {
   "cell_type": "code",
   "execution_count": 15,
   "id": "b3ac54a5-708d-4e6b-ab4f-787e2acea953",
   "metadata": {},
   "outputs": [],
   "source": [
    "def make_diagonal_zero(matrix):\n",
    "    for i in range(min(len(matrix),len(matrix[0]))):\n",
    "        matrix[i][i]=0\n",
    "    return matrix"
   ]
  },
  {
   "cell_type": "code",
   "execution_count": 16,
   "id": "79ccd231-27d1-4077-9272-d793c16f2445",
   "metadata": {},
   "outputs": [
    {
     "name": "stdout",
     "output_type": "stream",
     "text": [
      "[[ 0 -2  0  2]\n",
      " [-2  0  2  0]\n",
      " [ 0  2  0  2]\n",
      " [ 2  0  2  0]]\n"
     ]
    }
   ],
   "source": [
    "Wd = make_diagonal_zero(W)\n",
    "print(Wd)"
   ]
  },
  {
   "cell_type": "code",
   "execution_count": 17,
   "id": "1795ecbd-01bd-40fd-a751-92dc03a94f21",
   "metadata": {},
   "outputs": [],
   "source": [
    "xd = np.dot(x1,Wd)"
   ]
  },
  {
   "cell_type": "code",
   "execution_count": 18,
   "id": "9ddb35b0-657d-43fe-b6d0-a170bf37a2df",
   "metadata": {},
   "outputs": [
    {
     "name": "stdout",
     "output_type": "stream",
     "text": [
      "[[0 0 1 1]]\n"
     ]
    }
   ],
   "source": [
    "def activate(x,theta=0):\n",
    "    return np.where(x>theta, 1 , np.where(x==theta , x, -1))\n",
    "x_act = activate(xd)\n",
    "print(x_act)"
   ]
  },
  {
   "cell_type": "code",
   "execution_count": 19,
   "id": "061a11cb-8467-49b2-b470-2b9c93ee4840",
   "metadata": {},
   "outputs": [
    {
     "name": "stdout",
     "output_type": "stream",
     "text": [
      "Testing Failed\n"
     ]
    }
   ],
   "source": [
    "if np.array_equal(x1,x_act):\n",
    "    print(\"Testing Incomplete\")\n",
    "else:\n",
    "    print(\"Testing Failed\")"
   ]
  },
  {
   "cell_type": "code",
   "execution_count": null,
   "id": "c4fc4206-6855-4166-bb3e-1027c60ee3c7",
   "metadata": {},
   "outputs": [],
   "source": []
  },
  {
   "cell_type": "code",
   "execution_count": null,
   "id": "b10286b0-41d4-4529-bc2e-06cc4e8f3dbe",
   "metadata": {},
   "outputs": [],
   "source": []
  }
 ],
 "metadata": {
  "kernelspec": {
   "display_name": "Python 3 (ipykernel)",
   "language": "python",
   "name": "python3"
  },
  "language_info": {
   "codemirror_mode": {
    "name": "ipython",
    "version": 3
   },
   "file_extension": ".py",
   "mimetype": "text/x-python",
   "name": "python",
   "nbconvert_exporter": "python",
   "pygments_lexer": "ipython3",
   "version": "3.11.5"
  }
 },
 "nbformat": 4,
 "nbformat_minor": 5
}
