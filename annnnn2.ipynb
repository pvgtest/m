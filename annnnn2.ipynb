{
 "cells": [
  {
   "cell_type": "code",
   "execution_count": 11,
   "id": "6e6e221f-5a6f-4c5b-bd31-61be609dfccd",
   "metadata": {},
   "outputs": [],
   "source": [
    "def andnot(x1,x2):\n",
    "    t=[]\n",
    "    for i in range(len(x1)):\n",
    "        if x1[i]==1 and not x2[i]==1:\n",
    "            t.append(1)\n",
    "        else:\n",
    "            t.append(0)\n",
    "    return t"
   ]
  },
  {
   "cell_type": "code",
   "execution_count": 12,
   "id": "e54a4b19-7f96-477a-9b27-23cc9f93cbf3",
   "metadata": {},
   "outputs": [],
   "source": [
    "def mp(n,w1,w2,x1,x2):\n",
    "    w=p=0\n",
    "\n",
    "    if w1<0 or w2<0:\n",
    "        p=1\n",
    "\n",
    "    if w1>=0 or w2>=0:\n",
    "        w=1\n",
    "\n",
    "    theta = n*w-p\n",
    "\n",
    "    yin = [0]*4\n",
    "    ytarget = [0]*4\n",
    "\n",
    "    for i in range(len(x1)):\n",
    "        yin[i] = (w1*x1[i] + w2*x2[i])\n",
    "\n",
    "    for i in range(len(x1)):\n",
    "        if yin[i]>=theta:\n",
    "            ytarget[i]=1\n",
    "        else:\n",
    "            ytarget[i]=0\n",
    "    return yin,ytarget,theta"
   ]
  },
  {
   "cell_type": "code",
   "execution_count": 13,
   "id": "f9b3df86-20bc-476f-a214-381fa156b7e3",
   "metadata": {},
   "outputs": [
    {
     "name": "stdin",
     "output_type": "stream",
     "text": [
      "Enter the value of w1:  1\n",
      "Enter the value of w2:  -1\n"
     ]
    }
   ],
   "source": [
    "# inputs \n",
    "x1=[0,0,1,1]\n",
    "x2=[0,1,0,1]\n",
    "n=2\n",
    "\n",
    "w1 = int(input(\"Enter the value of w1: \"))\n",
    "w2 = int(input(\"Enter the value of w2: \"))\n",
    "# Compute ANDNOT of x1 and x2\n",
    "t = andnot(x1, x2)\n",
    "\n",
    "yin,ytarget,theta = mp(n,w1,w2,x1,x2)"
   ]
  },
  {
   "cell_type": "code",
   "execution_count": 17,
   "id": "ecd9931f-be62-4300-a6b8-cad8475c82f4",
   "metadata": {},
   "outputs": [
    {
     "name": "stdout",
     "output_type": "stream",
     "text": [
      "Threshold = 1\n",
      "\n",
      "ANDNOT implemantation using McCulloch Pits Neural Network \n",
      "\n",
      "x1 \t x2 \t t \t yin \t y\n",
      "0 \t 0 \t 0 \t 0 \t 0\n",
      "0 \t 1 \t 0 \t -1 \t 0\n",
      "1 \t 0 \t 1 \t 1 \t 1\n",
      "1 \t 1 \t 0 \t 0 \t 0\n"
     ]
    }
   ],
   "source": [
    "\n",
    "print(f\"Threshold = {theta}\\n\")\n",
    "print(\"ANDNOT implemantation using McCulloch Pits Neural Network \\n\")\n",
    "print(f\"x1 \\t x2 \\t t \\t yin \\t y\")\n",
    "for i in range(len(x1)):\n",
    "    print(f\"{x1[i]} \\t {x2[i]} \\t {t[i]} \\t {yin[i]} \\t {ytarget[i]}\")"
   ]
  },
  {
   "cell_type": "code",
   "execution_count": null,
   "id": "9d02b699-02f0-4979-bedc-473927d48494",
   "metadata": {},
   "outputs": [],
   "source": []
  }
 ],
 "metadata": {
  "kernelspec": {
   "display_name": "Python 3 (ipykernel)",
   "language": "python",
   "name": "python3"
  },
  "language_info": {
   "codemirror_mode": {
    "name": "ipython",
    "version": 3
   },
   "file_extension": ".py",
   "mimetype": "text/x-python",
   "name": "python",
   "nbconvert_exporter": "python",
   "pygments_lexer": "ipython3",
   "version": "3.11.5"
  }
 },
 "nbformat": 4,
 "nbformat_minor": 5
}
